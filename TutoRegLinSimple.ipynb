{
  "nbformat": 4,
  "nbformat_minor": 0,
  "metadata": {
    "colab": {
      "private_outputs": true,
      "provenance": [],
      "toc_visible": true,
      "authorship_tag": "ABX9TyPE39+BJOHZb8I/E5Kzc4RJ",
      "include_colab_link": true
    },
    "kernelspec": {
      "name": "python3",
      "display_name": "Python 3"
    },
    "language_info": {
      "name": "python"
    }
  },
  "cells": [
    {
      "cell_type": "markdown",
      "metadata": {
        "id": "view-in-github",
        "colab_type": "text"
      },
      "source": [
        "<a href=\"https://colab.research.google.com/github/killian31/TutoRegLinSimple/blob/main/TutoRegLinSimple.ipynb\" target=\"_parent\"><img src=\"https://colab.research.google.com/assets/colab-badge.svg\" alt=\"Open In Colab\"/></a>"
      ]
    },
    {
      "cell_type": "markdown",
      "source": [
        "# Charger les données (Exercice)"
      ],
      "metadata": {
        "id": "jnGHMBDyIpXq"
      }
    },
    {
      "cell_type": "markdown",
      "source": [
        "Éxecuter la cellule ci-dessous pour télécharger les données"
      ],
      "metadata": {
        "id": "C_0441tyQfkN"
      }
    },
    {
      "cell_type": "code",
      "source": [
        "!wget https://raw.githubusercontent.com/killian31/TutoRegLinSimple/main/TaillePoids.csv"
      ],
      "metadata": {
        "id": "yqS17YmMQofW"
      },
      "execution_count": null,
      "outputs": []
    },
    {
      "cell_type": "markdown",
      "source": [
        "Importer le module [pandas](https://pandas.pydata.org/docs/getting_started/intro_tutorials/02_read_write.html) pour charger notre jeu de données."
      ],
      "metadata": {
        "id": "cBfBzDTjI4Mp"
      }
    },
    {
      "cell_type": "code",
      "source": [],
      "metadata": {
        "id": "OMUFEiprIKwi"
      },
      "execution_count": null,
      "outputs": []
    },
    {
      "cell_type": "markdown",
      "source": [
        "Utiliser la méthode [`pandas.read_csv()`](https://pandas.pydata.org/docs/reference/api/pandas.read_csv.html) pour stocker les données dans la variable `data`, en passant comme argument :\n",
        " * `filepath_or_buffer=\"TaillePoids.csv\"`\n",
        " * `index_col=\"Index\"` "
      ],
      "metadata": {
        "id": "LazpGw0PJEOA"
      }
    },
    {
      "cell_type": "code",
      "source": [],
      "metadata": {
        "id": "LuCwOFiBIMSE"
      },
      "execution_count": null,
      "outputs": []
    },
    {
      "cell_type": "markdown",
      "source": [
        "Afficher les 5 premières lignes du jeu de données avec la méthode [`data.head()`](https://pandas.pydata.org/docs/reference/api/pandas.DataFrame.head.html)"
      ],
      "metadata": {
        "id": "B93gwMd0JpVq"
      }
    },
    {
      "cell_type": "code",
      "source": [],
      "metadata": {
        "id": "Ju1H3BHsIXAs"
      },
      "execution_count": null,
      "outputs": []
    },
    {
      "cell_type": "markdown",
      "source": [
        "# Afficher les données (Exercice)"
      ],
      "metadata": {
        "id": "KIEv_e85J4sK"
      }
    },
    {
      "cell_type": "markdown",
      "source": [
        "Importer le module [`matplotlib.pyplot`](https://matplotlib.org/stable/api/pyplot_summary.html) sous le nom raccourci de `plt` (mot-clé `as`)\n"
      ],
      "metadata": {
        "id": "uk_fp1hQJ81B"
      }
    },
    {
      "cell_type": "code",
      "source": [],
      "metadata": {
        "id": "xuKiqC6HIXqZ"
      },
      "execution_count": null,
      "outputs": []
    },
    {
      "cell_type": "markdown",
      "source": [
        "Utiliser la méthode [`plt.scatter(x,y)`](https://matplotlib.org/stable/api/_as_gen/matplotlib.pyplot.scatter.html) pour aficher un nuage de points du *Poids* (Y) en fonction de la *Taille* (X).\n",
        "\n",
        "*Aide : Pour accéder à une seule colonne du tableau de données, utiliser `data[\"Nom de la colonne\"]`*"
      ],
      "metadata": {
        "id": "kz4wEXjXKL1h"
      }
    },
    {
      "cell_type": "code",
      "source": [],
      "metadata": {
        "id": "0ifmpeA9LPbD"
      },
      "execution_count": null,
      "outputs": []
    },
    {
      "cell_type": "markdown",
      "source": [
        "# Équation d'une droite (Exercice)\n",
        "\n",
        "L'équation d'une droite est : $y = a.x + b$\n",
        "\n",
        "où dans notre example :\n",
        "* $y$ est l'ordonnée (poids),\n",
        "* $x$ est l'abscisse (taille),\n",
        "* $a$ est le coefficient directeur ou *pente*\n",
        "* $b$ est l'ordonnée à l'origine\n"
      ],
      "metadata": {
        "id": "afVaKBHtL6oC"
      }
    },
    {
      "cell_type": "markdown",
      "source": [
        "## Afficher une droite"
      ],
      "metadata": {
        "id": "dIr1IgMxOqpb"
      }
    },
    {
      "cell_type": "markdown",
      "source": [
        "Comme il n'existe qu'une seule droite passant par deux points, nous pouvons afficher simplement une droite avec la fonction `plt.plot()`.\n",
        "\n",
        "Par exemple, pour faire une droite passant par le point de coordonées (1,2) et le point de coordonées (4,6), nous pouvons créer deux listes x et y comme ceci :\n",
        "```python\n",
        "x = [1,4]\n",
        "y = [2,6]\n",
        "```\n",
        "La liste x contient les abscisses, et la liste y contient les ordonnées.\n",
        "Pour afficher ces deux points, nous pouvons utiliser la fonction `scatter` utilisée plus haut :\n",
        "```python\n",
        "plt.scatter(x,y)\n",
        "```\n",
        "\n",
        "Pour tracer la droite entre ces deux points :\n",
        "```\n",
        "plt.plot(x,y)\n",
        "```\n",
        "\n",
        "Ces deux graphiques peuvent être combinés, il suffit juste d'éxécuter ces deux lignes dans la même cellule de code :"
      ],
      "metadata": {
        "id": "Ou-yZwyzOvYD"
      }
    },
    {
      "cell_type": "code",
      "source": [],
      "metadata": {
        "id": "nQsM9sxWLl3V"
      },
      "execution_count": null,
      "outputs": []
    },
    {
      "cell_type": "markdown",
      "source": [
        "## Afficher une droite à partir d'une équation\n",
        "\n",
        "Pour afficher une droite à partir d'une équation, nous devons d'abord générer des points x et y. Nous allons en générer 100.\n",
        "\n",
        "Prenons comme exemple cette équation : $y = 2.x + 1$\n",
        "\n",
        "Nous avons un coefficient directeur ($a$) égal à 2, et une ordonnée à l'origine ($b$) égale à 1. "
      ],
      "metadata": {
        "id": "8WscCxYNQ1Xt"
      }
    },
    {
      "cell_type": "markdown",
      "source": [
        "### Générer 100 points de 1 à 100.\n",
        "\n",
        "Pour générer une [liste](https://python.sdv.univ-paris-diderot.fr/04_listes/) contenant les entiers de 1 à 100, nous allons utiliser une boucle [`for`](https://courspython.com/boucles.html).\n",
        "\n",
        "Commençons par initialiser une liste vide dans laquelle nous ajouterons nos nombres grâce à la boucle `for` :"
      ],
      "metadata": {
        "id": "VMoNvcM6RgHL"
      }
    },
    {
      "cell_type": "code",
      "source": [],
      "metadata": {
        "id": "p5ZlPyN_PCTD"
      },
      "execution_count": null,
      "outputs": []
    },
    {
      "cell_type": "markdown",
      "source": [
        "Utilisons la fonction `range()` entre 1 et 101 pour parcourir les nombres dans notre boucle, et ajouter chaque nombre dans notre liste `x` avec la méthode `x.append(nombre)` :\n",
        "\n",
        "*Aide : Voici la syntaxe pour une boucle for*\n",
        "```python\n",
        "for nombre in range(nombre_de_depart, nombre_de_fin_plus_un):\n",
        "  effectuer_action(nombre)\n",
        "```\n",
        "la variable nombre prendra tour à tour les nombres entre `nombre_de_depart` et `nombre_de_fin`, et effectuera l'action demandée avec chaque nombre"
      ],
      "metadata": {
        "id": "xXLnCsP9SK4X"
      }
    },
    {
      "cell_type": "code",
      "source": [],
      "metadata": {
        "id": "AY6enkMDS8fv"
      },
      "execution_count": null,
      "outputs": []
    },
    {
      "cell_type": "markdown",
      "source": [
        "### Générer 100 points à partir des points précédents\n",
        "\n",
        "Maintenant que nous avons nos abscisses, nous pouvons générer nos ordonnées de la même manière, en utilisant le $a$ et $b$.\n",
        "\n",
        "Commençons par définir `a`, `b`, et initialiser une liste vide pour y ajouter les `y` :\n",
        "```python\n",
        "a = 2\n",
        "b = 1\n",
        "y = []\n",
        "```\n",
        "\n",
        "Comme précédemment, utilisons une boucle `for` pour ajouter nos nombres dans la liste. Cette fois, au lieu de simplement ajouter `nombre` dans la liste, nous allons ajouter nombre multiplié par `a` et additionné avec `b` dans la liste."
      ],
      "metadata": {
        "id": "hy00ktzBTjjQ"
      }
    },
    {
      "cell_type": "code",
      "source": [],
      "metadata": {
        "id": "tuuT5Il2TePt"
      },
      "execution_count": null,
      "outputs": []
    },
    {
      "cell_type": "markdown",
      "source": [
        "### Afficher la droite\n",
        "\n",
        "Maintenant que nous avons nos deux listes x et y, nous pouvons afficher ces 100 points sur un graphique, en utilisant la méthode [`plt.scatter()`](https://matplotlib.org/stable/api/_as_gen/matplotlib.pyplot.scatter.html)"
      ],
      "metadata": {
        "id": "-6wNsZk3U4eR"
      }
    },
    {
      "cell_type": "code",
      "source": [],
      "metadata": {
        "id": "ivViffAaU3PF"
      },
      "execution_count": null,
      "outputs": []
    },
    {
      "cell_type": "markdown",
      "source": [
        "# Régression linéaire\n",
        "\n",
        "Nous allons réaliser une régression linéaire pour approximer la droite la plus proche de l'ensemble des points que nous avons observé sur le nuage de points. Ce nuage de points ayant une forme allongée, il semble qu'une droite pourrait passer au milieu en suivant sa direction. Nous allons calculer l'équation de cette droite de deux manières différentes."
      ],
      "metadata": {
        "id": "RK0k6yBbVX9y"
      }
    },
    {
      "cell_type": "markdown",
      "source": [
        "Commençons par définir nos variables `x` (taille) et `y` (poids) sous le forme de listes.\n",
        "\n",
        "*Aide : Utiliser la fonction `list()` pour convertir une colonne d'un DataFrame pandas en liste* "
      ],
      "metadata": {
        "id": "jwybkvfoeZRl"
      }
    },
    {
      "cell_type": "code",
      "source": [],
      "metadata": {
        "id": "rqnZt7iUeYiC"
      },
      "execution_count": null,
      "outputs": []
    },
    {
      "cell_type": "markdown",
      "source": [
        "## Méthode des moindres carrés\n",
        "\n",
        "Cette méthode permet de calculer directement le coefficiant directeur ainsi que l'ordonnée à l'origine de la droite la plus porche d'un ensemble de points. Les formules sont relativement simple à démontrer, mais nous ne le ferons pas ici.\n",
        "\n",
        "Revenons à l'équation de base d'une droite :\n",
        "$$\n",
        "y = a.x + b\n",
        "$$\n",
        "\n",
        "Voici la formule donnée par la méthode des moindres carrés pour approximer le $a$ :\n",
        "$$\n",
        "\\hat{a} = \\frac{\\sum_{i=1}^n (x_i - \\overline{x})(y_i - \\overline{y})}{\\sum_{i=1}^n (x_i - \\overline{x})²}\n",
        "$$\n",
        "et pour approximer le $b$ :\n",
        "$$\n",
        "\\hat{b} = \\overline{y} - \\hat{a}.\\overline{x}\n",
        "$$\n",
        "\n",
        "où \n",
        "* $\\overline{x}$ est le $x$ moyen (moyenne de tous les $x_i$)\n",
        "* $\\overline{y}$ est le $y$ moyen (moyenne de tous les $y_i$)\n",
        "* $n$ est le nombre total de points"
      ],
      "metadata": {
        "id": "afXqZohIV8uD"
      }
    },
    {
      "cell_type": "markdown",
      "source": [
        "### Exercice\n",
        "\n",
        "#### 1. Fonction moyenne\n",
        "\n",
        "Implémenter une [fonction](https://courspython.com/fonctions.html) `moyenne()` qui prend en entrée une liste de nombres, et retourne en sortie la moyene de ces nombres. \n",
        "\n",
        "*Aide : utiliser une boucle `for` pour calculer la somme, et diviser par le nombre total de points en utilisant la fonction [`len()`](https://www.docstring.fr/glossaire/len/)*"
      ],
      "metadata": {
        "id": "IB0qcZfdXrHT"
      }
    },
    {
      "cell_type": "code",
      "source": [
        "def moyenne(liste):\n",
        "  # code ici\n",
        "\n",
        "  return resultat"
      ],
      "metadata": {
        "id": "292cQtAhYexz"
      },
      "execution_count": null,
      "outputs": []
    },
    {
      "cell_type": "markdown",
      "source": [
        "#### 2. Calculer les moyennes\n",
        "\n",
        "Utiliser la fonction `moyenne()` codée précédemment pour calculer les moyennes des listes poids et taille, stockées dans les variables `poids_moyen` et `taille_moyenne`.\n",
        "\n",
        "*Rappel : formule de la moyenne d'une liste = somme de tous les nombres de la liste divisée par le nombre d'éléments dans la liste.*\n"
      ],
      "metadata": {
        "id": "VYkafT-fYehR"
      }
    },
    {
      "cell_type": "code",
      "source": [
        "poids_moyen = moyenne(y)\n",
        "taille_moyenne = moyenne(x)"
      ],
      "metadata": {
        "id": "D2OYlZjsZzVk"
      },
      "execution_count": null,
      "outputs": []
    },
    {
      "cell_type": "markdown",
      "source": [
        "#### Fonction `cov`\n",
        "\n",
        "Implémenter la fonction `cov()` qui prend en argument deux listes x et y, et retourne le numérateur de la formule du calcul de $\\hat{a}$.\n",
        "\n",
        "*Rappel :* numérateur = $\\sum_{i=1}^n (x_i - \\overline{x})(y_i - \\overline{y})$ \n",
        "\n",
        "*Aide : utiliser la fonction `moyenne()` pour calculer le x moyen et le y moyen et une boucle `for` pour calculer la somme*\n",
        "\n",
        "*Aide 2 : pour accéder à l'élément $i$ d'une liste, la syntaxe est `ma_liste[i]`*"
      ],
      "metadata": {
        "id": "zmTWURmqZeJz"
      }
    },
    {
      "cell_type": "code",
      "source": [
        "def cov(x,y):\n",
        "  # code ici\n",
        "\n",
        "  return resultat"
      ],
      "metadata": {
        "id": "-0LSmernZMpx"
      },
      "execution_count": null,
      "outputs": []
    },
    {
      "cell_type": "markdown",
      "source": [
        "#### Fonction `var`\n",
        "\n",
        "Implémenter la fonction `var()` qui prend en argument une liste x, et retourne le dénominateur de la formule du calcul de $\\hat{a}$.\n",
        "\n",
        "*Rappel :* dénominateur = $\\sum_{i=1}^n (x_i - \\overline{x})²$ \n",
        "\n",
        "*Aide : utiliser la fonction `moyenne()` pour calculer le x moyen et le y moyen et une boucle `for` pour calculer la somme*\n",
        "\n",
        "*Aide 2 : en python, l'opérateur puissance est `**`. Par exemple pour calculer $2^{2}$ : `variable = 2**2`*"
      ],
      "metadata": {
        "id": "XK13y2YFbxby"
      }
    },
    {
      "cell_type": "code",
      "source": [
        "def var(x):\n",
        "  # code ici\n",
        "  \n",
        "  return resultat"
      ],
      "metadata": {
        "id": "ZCxZSPOzbuaZ"
      },
      "execution_count": null,
      "outputs": []
    },
    {
      "cell_type": "markdown",
      "source": [
        "#### Assembler les deux fonction dans la fonction `coeff_dir`\n",
        "\n",
        "Utiliser les deux fonction précédentes pour implémenter la fonction `coeff_dir()` qui prend en argument deux listes x et y, et retourne $\\hat{a}$.\n",
        "\n",
        "*Rappel :* équation $\\hat{a} = \\frac{\\sum_{i=1}^n (x_i - \\overline{x})(y_i - \\overline{y})}{\\sum_{i=1}^n (x_i - \\overline{x})²}$ = `cov(x,y)/var(x)`."
      ],
      "metadata": {
        "id": "2QxOsHTnc2jh"
      }
    },
    {
      "cell_type": "code",
      "source": [
        "def coeff_dir(x,y):\n",
        "  # code ici\n",
        "  \n",
        "  return resultat"
      ],
      "metadata": {
        "id": "gopvOjNybvU_"
      },
      "execution_count": null,
      "outputs": []
    },
    {
      "cell_type": "markdown",
      "source": [
        "Calculer le coefficient directeur et le stocker dans la variable `a_chapeau`."
      ],
      "metadata": {
        "id": "aZZRx9A0qklJ"
      }
    },
    {
      "cell_type": "code",
      "source": [],
      "metadata": {
        "id": "BuvQzKcXcv92"
      },
      "execution_count": null,
      "outputs": []
    },
    {
      "cell_type": "markdown",
      "source": [
        "#### Fonction `ord_orig`\n",
        "\n",
        "Utiliser les fonctions `moyenne()` et `coeff_dir()` pour implémenter la fonction `ord_orig()` qui prend en argument deux listes x et y et retourne le $\\hat{b}$.\n",
        "\n",
        "*Rappel* : équation $\\hat{b} = \\overline{y} - \\hat{a}.\\overline{x}$"
      ],
      "metadata": {
        "id": "ItmwKbwWdP1B"
      }
    },
    {
      "cell_type": "code",
      "source": [
        "def ord_orig(x,y):\n",
        "  # code ici\n",
        "\n",
        "  return resultat"
      ],
      "metadata": {
        "id": "dZjptZmedOOf"
      },
      "execution_count": null,
      "outputs": []
    },
    {
      "cell_type": "markdown",
      "source": [
        "Calculer l'ordonnée à l'origine et la stocker dans la variable `b_chapeau`."
      ],
      "metadata": {
        "id": "MuWdl8LZqwbB"
      }
    },
    {
      "cell_type": "code",
      "source": [],
      "metadata": {
        "id": "zrQ-hJi_eQ5X"
      },
      "execution_count": null,
      "outputs": []
    },
    {
      "cell_type": "markdown",
      "source": [
        "#### Visualiser la droite de régression"
      ],
      "metadata": {
        "id": "F54ydMxmpavD"
      }
    },
    {
      "cell_type": "markdown",
      "source": [
        "Commençons par ré afficher notre nuage de points (plt.scatter())"
      ],
      "metadata": {
        "id": "3gNEsqjRphAj"
      }
    },
    {
      "cell_type": "code",
      "source": [],
      "metadata": {
        "id": "Mpi4Qte1eS8n"
      },
      "execution_count": null,
      "outputs": []
    },
    {
      "cell_type": "markdown",
      "source": [
        "Générer une liste d'abscisses x_chapeau entre 150 et 195, puis générer les y_chapeau avec nos coefficients trouvés juste avant. (voir la section [Afficher une droite à partir d'une équation](#scrollTo=8WscCxYNQ1Xt))"
      ],
      "metadata": {
        "id": "YE05EonpppBJ"
      }
    },
    {
      "cell_type": "code",
      "source": [],
      "metadata": {
        "id": "2pii1S-wqcX3"
      },
      "execution_count": null,
      "outputs": []
    },
    {
      "cell_type": "markdown",
      "source": [
        "Afficher la droite en rouge et les points en bleu : ajouter le paramètre `c` des fonctions `plt.scatter()` et `plt.plot()`, les différents noms de couleurs sont disponibles [ici](https://matplotlib.org/stable/gallery/color/named_colors.html#base-colors))"
      ],
      "metadata": {
        "id": "GjsIU91LrMXm"
      }
    },
    {
      "cell_type": "code",
      "source": [],
      "metadata": {
        "id": "O7mVfgOxplua"
      },
      "execution_count": null,
      "outputs": []
    },
    {
      "cell_type": "markdown",
      "source": [
        "## Méthode par apprentissage automatique\n",
        "\n",
        "Une autre méthode consiste à utiliser du *machine learning* pour créer un modèle qui va apprendre à construire la droite de régression. \n",
        "\n",
        "Les détails mathématiques de cette méthode sont un peu complexes, aussi nous détaillerons pas le code et observerons simplement les résultats."
      ],
      "metadata": {
        "id": "jbaJCP5ms0Va"
      }
    },
    {
      "cell_type": "markdown",
      "source": [
        "### Données d'exemple"
      ],
      "metadata": {
        "id": "4ZXOppNU8L-v"
      }
    },
    {
      "cell_type": "markdown",
      "source": [
        "Commençons par créer des données d'exemple que nous utiliserons pour entraîner le modèle :"
      ],
      "metadata": {
        "id": "1cbBs88D4huf"
      }
    },
    {
      "cell_type": "code",
      "source": [
        "import numpy as np\n",
        "np.random.seed(0) # pour toujours reproduire le meme dataset\n",
        " \n",
        "n_samples = 1000 # nombre d'echantillons a générer\n",
        "x = np.linspace(0, 10, n_samples).reshape((n_samples, 1))\n",
        "y = x + np.random.randn(n_samples, 1)\n",
        "\n",
        "plt.scatter(x,y)"
      ],
      "metadata": {
        "id": "4cv4E_ZN3qCP"
      },
      "execution_count": null,
      "outputs": []
    },
    {
      "cell_type": "markdown",
      "source": [
        "### Entraînement"
      ],
      "metadata": {
        "id": "qy-g30GL8QrP"
      }
    },
    {
      "cell_type": "markdown",
      "source": [
        "Lancer l'entraînement du modèle :"
      ],
      "metadata": {
        "id": "Gis8jeDA7tu5"
      }
    },
    {
      "cell_type": "code",
      "source": [
        "from tqdm.notebook import tqdm\n",
        "# ajout de la colonne de biais a X\n",
        "X = np.hstack((x, np.ones(x.shape)))\n",
        " \n",
        "# création d'un vecteur parametre theta\n",
        "theta = np.random.randn(2, 1)\n",
        "\n",
        "def model(X, theta):\n",
        "    return X.dot(theta)\n",
        " \n",
        "def cost_function(X, y, theta):\n",
        "    m = len(y)\n",
        "    return 1/(2*m) * np.sum((model(X, theta) - y)**2)\n",
        " \n",
        "def grad(X, y, theta):\n",
        "    m = len(y)\n",
        "    return 1/m * X.T.dot(model(X, theta) - y)\n",
        " \n",
        "def gradient_descent(X, y, theta, learning_rate, n_iterations):\n",
        "    # création d'un tableau de stockage pour enregistrer l'évolution du Cout du modele\n",
        "    cost_history = np.zeros(n_iterations) \n",
        "     \n",
        "    for i in tqdm(range(0, n_iterations)):\n",
        "        theta = theta - learning_rate * grad(X, y, theta) # mise a jour du parametre theta (formule du gradient descent)\n",
        "        cost_history[i] = cost_function(X, y, theta) # on enregistre la valeur du Cout au tour i dans cost_history[i]\n",
        "        predictions = model(X, theta)\n",
        "        # Affiche les résultats de prédictions (en rouge) par rapport a notre Dataset (en bleu)\n",
        "        plt.figure(figsize=(5,5))\n",
        "        plt.scatter(X[:,0], y, c='b')\n",
        "        plt.plot(X[:,0], predictions, c='r')\n",
        "        plt.savefig(f\"{i}.png\")\n",
        "        plt.close()\n",
        "         \n",
        "    return theta, cost_history\n",
        "  \n",
        "\n",
        "# Example de test :\n",
        "\n",
        "n_iterations = 20\n",
        "learning_rate = 0.01\n",
        " \n",
        "theta_final, cost_history = gradient_descent(X, y, theta, learning_rate, n_iterations)\n",
        " \n",
        "# création d'un vecteur prédictions qui contient les prédictions de notre modele final\n",
        "predictions = model(X, theta_final)\n",
        " \n",
        "# Affiche les résultats de prédictions (en rouge) par rapport a notre Dataset (en bleu)\n",
        "plt.scatter(x, y)\n",
        "plt.plot(x, predictions, c='r')\n",
        "plt.show()"
      ],
      "metadata": {
        "id": "4lze6nY04oqv"
      },
      "execution_count": null,
      "outputs": []
    },
    {
      "cell_type": "markdown",
      "source": [
        "Le calcul est beaucoup plus long avec cette méthode qu'avec la première méthode, car entraîner un modèle prend plus de temps que simplement appliquer les formules des moindres carrés."
      ],
      "metadata": {
        "id": "sw3f6YYy79H_"
      }
    },
    {
      "cell_type": "markdown",
      "source": [
        "### Visualisation de l'entraînement"
      ],
      "metadata": {
        "id": "IovwX4gv8Uhf"
      }
    },
    {
      "cell_type": "markdown",
      "source": [
        "La cellule ci-dessous crée une visualisation de l'entraînement, la droite s'ajustant au fur et à mesure des époques."
      ],
      "metadata": {
        "id": "MMc_VA5h8oF-"
      }
    },
    {
      "cell_type": "code",
      "source": [
        "# Build GIF\n",
        "import imageio\n",
        "import os\n",
        "\n",
        "frames = []\n",
        "for n in range(n_iterations):\n",
        "    image = imageio.v2.imread(f'{n}.png')\n",
        "    frames.append(image)\n",
        "\n",
        "imageio.mimsave('./example.gif', frames, fps = 2)\n",
        "\n",
        "from IPython.display import Image\n",
        "Image(open('example.gif','rb').read())"
      ],
      "metadata": {
        "id": "BSoWQOzD1tzp"
      },
      "execution_count": null,
      "outputs": []
    },
    {
      "cell_type": "code",
      "source": [
        "# Supprimer les images générées pour l'animation \n",
        "for filename in [f\"{i}.png\" for i in range(n_iterations)]:\n",
        "  os.remove(filename)"
      ],
      "metadata": {
        "id": "jFCu9JqU6CZ9"
      },
      "execution_count": null,
      "outputs": []
    }
  ]
}